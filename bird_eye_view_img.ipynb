{
 "cells": [
  {
   "cell_type": "code",
   "execution_count": 23,
   "metadata": {},
   "outputs": [],
   "source": [
    "import cv2\n",
    "import numpy as np"
   ]
  },
  {
   "cell_type": "code",
   "execution_count": 55,
   "metadata": {},
   "outputs": [],
   "source": [
    "# Set points' coords and put them to a tuple\n",
    "tl = 445, 25\n",
    "tr = 935, 90\n",
    "br = 900, 650\n",
    "bl = 290, 543\n",
    "\n",
    "rect = np.array((tl, tr, br, bl), dtype=np.float32)"
   ]
  },
  {
   "cell_type": "code",
   "execution_count": 60,
   "metadata": {},
   "outputs": [],
   "source": [
    "# Read image and set corner points\n",
    "img = cv2.imread('imgs/pic.JPG')\n",
    "img = np.array(cv2.cvtColor(img, cv2.COLOR_BGR2GRAY))\n",
    "\n",
    "for p in rect.astype(np.int16).tolist():\n",
    "    cv2.circle(img, tuple(p), 2, (255, 255, 255))\n",
    "\n",
    "cv2.imshow('test_img', img)\n",
    "cv2.waitKey()\n",
    "cv2.destroyAllWindows()"
   ]
  },
  {
   "cell_type": "code",
   "execution_count": 61,
   "metadata": {},
   "outputs": [],
   "source": [
    "# Arrange points in tuple in proper consequence (to know where is the needed corner)\n",
    "widthA = np.sqrt(((br[0] - bl[0]) ** 2) + ((br[1] - bl[1]) ** 2))\n",
    "widthB = np.sqrt(((tr[0] - tl[0]) ** 2) + ((tr[1] - tl[1]) ** 2))\n",
    "maxWidth = max(int(widthA), int(widthB))\n",
    "\n",
    "heightA = np.sqrt(((tr[0] - br[0]) ** 2) + ((tr[1] - br[1]) ** 2))\n",
    "heightB = np.sqrt(((tl[0] - bl[0]) ** 2) + ((tl[1] - bl[1]) ** 2))\n",
    "maxHeight = max(int(heightA), int(heightB))\n",
    "\n",
    "dst = np.array([\n",
    "    [0, 0],\n",
    "    [maxWidth - 1, 0],\n",
    "    [maxWidth - 1, maxHeight - 1],\n",
    "    [0, maxHeight - 1]], dtype = \"float32\")"
   ]
  },
  {
   "cell_type": "code",
   "execution_count": 63,
   "metadata": {},
   "outputs": [],
   "source": [
    "# Set transformation matrix\n",
    "M = cv2.getPerspectiveTransform(rect, dst)"
   ]
  },
  {
   "cell_type": "code",
   "execution_count": 64,
   "metadata": {},
   "outputs": [],
   "source": [
    "# Warping\n",
    "warped = cv2.warpPerspective(img, M, (maxWidth, maxHeight))"
   ]
  },
  {
   "cell_type": "code",
   "execution_count": 65,
   "metadata": {},
   "outputs": [],
   "source": [
    "cv2.imshow('warped', warped)\n",
    "cv2.waitKey()\n",
    "cv2.destroyAllWindows()"
   ]
  },
  {
   "cell_type": "code",
   "execution_count": null,
   "metadata": {},
   "outputs": [],
   "source": []
  }
 ],
 "metadata": {
  "kernelspec": {
   "display_name": "Python 3",
   "language": "python",
   "name": "python3"
  },
  "language_info": {
   "codemirror_mode": {
    "name": "ipython",
    "version": 3
   },
   "file_extension": ".py",
   "mimetype": "text/x-python",
   "name": "python",
   "nbconvert_exporter": "python",
   "pygments_lexer": "ipython3",
   "version": "3.7.0"
  }
 },
 "nbformat": 4,
 "nbformat_minor": 2
}
